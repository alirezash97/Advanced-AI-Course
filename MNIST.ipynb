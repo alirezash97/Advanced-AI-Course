{
  "nbformat": 4,
  "nbformat_minor": 0,
  "metadata": {
    "colab": {
      "name": "MNIST.ipynb",
      "provenance": [],
      "authorship_tag": "ABX9TyOOCtjekBFs0hzAbAfqq4bz",
      "include_colab_link": true
    },
    "kernelspec": {
      "name": "python3",
      "display_name": "Python 3"
    }
  },
  "cells": [
    {
      "cell_type": "markdown",
      "metadata": {
        "id": "view-in-github",
        "colab_type": "text"
      },
      "source": [
        "<a href=\"https://colab.research.google.com/github/alirezash97/Advanced-AI-Course/blob/main/MNIST.ipynb\" target=\"_parent\"><img src=\"https://colab.research.google.com/assets/colab-badge.svg\" alt=\"Open In Colab\"/></a>"
      ]
    },
    {
      "cell_type": "code",
      "metadata": {
        "id": "13GGphNvduUg"
      },
      "source": [
        "import torch\r\n",
        "import torchvision\r\n",
        "import torchvision.transforms as transforms\r\n",
        "from matplotlib import pyplot\r\n",
        "import matplotlib.pyplot as plt\r\n",
        "import numpy as np\r\n"
      ],
      "execution_count": 29,
      "outputs": []
    },
    {
      "cell_type": "code",
      "metadata": {
        "id": "bul1QTttdyH2"
      },
      "source": [
        "transform = transforms.Compose(\r\n",
        "    [transforms.ToTensor(),\r\n",
        "     transforms.Normalize((0.5), (0.5))])\r\n",
        "\r\n",
        "trainset = torchvision.datasets.MNIST(root='./data', train=True,\r\n",
        "                                        download=True, transform=transform)\r\n",
        "trainloader = torch.utils.data.DataLoader(trainset, batch_size=4,\r\n",
        "                                          shuffle=True, num_workers=2)\r\n",
        "\r\n",
        "testset = torchvision.datasets.MNIST(root='./data', train=False,\r\n",
        "                                       download=True, transform=transform)\r\n",
        "testloader = torch.utils.data.DataLoader(testset, batch_size=4,\r\n",
        "                                         shuffle=False, num_workers=2)"
      ],
      "execution_count": 30,
      "outputs": []
    },
    {
      "cell_type": "code",
      "metadata": {
        "colab": {
          "base_uri": "https://localhost:8080/",
          "height": 189
        },
        "id": "rv6Mi0G5d1lf",
        "outputId": "f0c7803a-23b2-4131-c0c4-50fb1888dd69"
      },
      "source": [
        "def imshow(img):\r\n",
        "    img = img / 2 + 0.5     # unnormalize\r\n",
        "    npimg = img.numpy()\r\n",
        "    plt.imshow(np.transpose(npimg, (1, 2, 0)))\r\n",
        "    plt.show()\r\n",
        "\r\n",
        "\r\n",
        "# get some random training images\r\n",
        "dataiter = iter(trainloader)\r\n",
        "images, labels = dataiter.next()\r\n",
        "print(images.shape)\r\n",
        "print(labels.shape)\r\n",
        "\r\n",
        "# show images\r\n",
        "imshow(torchvision.utils.make_grid(images))\r\n",
        "# print labels\r\n",
        "print('    '.join('%5s' % labels[j] for j in range(4)))"
      ],
      "execution_count": 31,
      "outputs": [
        {
          "output_type": "stream",
          "text": [
            "torch.Size([4, 1, 28, 28])\n",
            "torch.Size([4])\n"
          ],
          "name": "stdout"
        },
        {
          "output_type": "display_data",
          "data": {
            "image/png": "[encoded data removed]",
            "text/plain": [
              "<Figure size 432x288 with 1 Axes>"
            ]
          },
          "metadata": {
            "tags": [],
            "needs_background": "light"
          }
        },
        {
          "output_type": "stream",
          "text": [
            "tensor(3)    tensor(1)    tensor(2)    tensor(1)\n"
          ],
          "name": "stdout"
        }
      ]
    },
    {
      "cell_type": "code",
      "metadata": {
        "id": "jdpMSB8Fex3s"
      },
      "source": [
        "import torch.nn as nn\r\n",
        "import torch.nn.functional as F \r\n",
        "\r\n",
        "class Network(nn.Module):\r\n",
        "  \r\n",
        "  def __init__(self):\r\n",
        "    super(Network, self).__init__()\r\n",
        "    self.conv1 = nn.Conv2d(1, 8, 3)\r\n",
        "    self.pool = nn.MaxPool2d(2, 2)\r\n",
        "    self.conv2 = nn.Conv2d(8, 16, 6)\r\n",
        "    self.fc1 = nn.Linear(16 * 4 * 4, 256)\r\n",
        "    self.fc2 = nn.Linear(256, 128)\r\n",
        "    self.fc3 = nn.Linear(128, 10)\r\n",
        "\r\n",
        "  def forward(self, x):\r\n",
        "    x = self.pool(F.relu(self.conv1(x)))\r\n",
        "    x = self.pool(F.relu(self.conv2(x)))\r\n",
        "    x = x.view(-1, 16 * 4 * 4)\r\n",
        "    x = F.relu(self.fc1(x))\r\n",
        "    x = F.relu(self.fc2(x))\r\n",
        "    x = self.fc3(x)\r\n",
        "    return x\r\n",
        "\r\n",
        "Network = Network()\r\n"
      ],
      "execution_count": 32,
      "outputs": []
    },
    {
      "cell_type": "code",
      "metadata": {
        "id": "C5kxlOmHrAof"
      },
      "source": [
        "import torch.optim as optim\r\n",
        "\r\n",
        "loss_function = nn.CrossEntropyLoss()\r\n",
        "optimizer = optim.SGD(Network.parameters(), lr = 0.001, momentum = 0.9)"
      ],
      "execution_count": 33,
      "outputs": []
    },
    {
      "cell_type": "code",
      "metadata": {
        "colab": {
          "base_uri": "https://localhost:8080/"
        },
        "id": "8qiw43SMsGrf",
        "outputId": "1ae7d5c6-fc2d-4101-fb7c-2885cef464ca"
      },
      "source": [
        "for epoch in range(1):\r\n",
        "\r\n",
        "  running_loss = 0.0\r\n",
        "  for i, data in enumerate(trainloader, 0):\r\n",
        "    \r\n",
        "    inputs, label = data\r\n",
        "    optimizer.zero_grad()\r\n",
        "    outputs = Network(inputs)\r\n",
        "    loss = loss_function(outputs, label)\r\n",
        "    loss.backward()\r\n",
        "    optimizer.step()\r\n",
        "\r\n",
        "\r\n",
        "    running_loss += loss.item()\r\n",
        "    if i % 2000 == 1999:\r\n",
        "      print('[%d, %5d] loss: %.3f' %( epoch + 1, i + 1, running_loss / 2000))\r\n",
        "      running_loss = 0.0\r\n",
        "    \r\n",
        "print('Finished Training Network')\r\n"
      ],
      "execution_count": 34,
      "outputs": [
        {
          "output_type": "stream",
          "text": [
            "[1,  2000] loss: 1.186\n",
            "[1,  4000] loss: 0.243\n",
            "[1,  6000] loss: 0.143\n",
            "[1,  8000] loss: 0.114\n",
            "[1, 10000] loss: 0.101\n",
            "[1, 12000] loss: 0.095\n",
            "[1, 14000] loss: 0.089\n",
            "Finished Training Network\n"
          ],
          "name": "stdout"
        }
      ]
    },
    {
      "cell_type": "code",
      "metadata": {
        "colab": {
          "base_uri": "https://localhost:8080/",
          "height": 239
        },
        "id": "Qg93GV5Q0nSe",
        "outputId": "b8b3f2ae-5c32-4feb-b5bb-681b5dfdb37d"
      },
      "source": [
        "dataiter = iter(testloader)\r\n",
        "images, labels = dataiter.next()\r\n",
        "\r\n",
        "# print images\r\n",
        "imshow(torchvision.utils.make_grid(images))\r\n",
        "print('GroundTruth: ', ' '.join('%5s' % labels[j] for j in range(4)))\r\n",
        "outputs = Network(images)\r\n",
        "print('Predicted: ', ' '.join('%5s' % outputs[j] for j in range(4)))"
      ],
      "execution_count": 35,
      "outputs": [
        {
          "output_type": "display_data",
          "data": {
            "image/png": "[encoded data removed]",
            "text/plain": [
              "<Figure size 432x288 with 1 Axes>"
            ]
          },
          "metadata": {
            "tags": [],
            "needs_background": "light"
          }
        },
        {
          "output_type": "stream",
          "text": [
            "GroundTruth:  tensor(7) tensor(2) tensor(1) tensor(0)\n",
            "Predicted:  tensor([-2.1258,  0.6236,  1.5395,  2.0073, -4.1080, -0.9180, -8.3257, 12.7417,\n",
            "        -0.5583,  0.2748], grad_fn=<SelectBackward>) tensor([ 3.1825,  3.8831, 14.2873, -1.0388, -6.2867, -4.0188, -0.4545, -2.7722,\n",
            "         1.2399, -8.0234], grad_fn=<SelectBackward>) tensor([-5.0541,  9.8248,  0.2235, -3.7644,  1.5450, -0.4524, -0.8048,  1.1799,\n",
            "         0.2513, -2.6629], grad_fn=<SelectBackward>) tensor([10.9985, -2.9948,  1.4810, -3.5043, -2.8935, -0.1886,  1.8911, -1.3803,\n",
            "        -1.6388, -1.1289], grad_fn=<SelectBackward>)\n"
          ],
          "name": "stdout"
        }
      ]
    },
    {
      "cell_type": "code",
      "metadata": {
        "colab": {
          "base_uri": "https://localhost:8080/"
        },
        "id": "21QTTLqUvPwc",
        "outputId": "8f112498-ed26-4888-af50-afc1b5357289"
      },
      "source": [
        "from sklearn.metrics import precision_score, recall_score\r\n",
        "\r\n",
        "correct = 0\r\n",
        "# precision = []\r\n",
        "# recall = []\r\n",
        "final_predicted = []\r\n",
        "final_labels = []\r\n",
        "total = 0\r\n",
        "with torch.no_grad():\r\n",
        "    i = 0\r\n",
        "    for data in testloader:\r\n",
        "        i += 1\r\n",
        "        images, labels = data\r\n",
        "        outputs = Network(images)\r\n",
        "        _, predicted = torch.max(outputs.data, 1)\r\n",
        "        total += labels.size(0)\r\n",
        "        correct += (predicted == labels).sum().item()\r\n",
        "        final_predicted = np.concatenate((final_predicted, np.array(predicted)))\r\n",
        "        final_labels= np.concatenate((final_labels, np.array(labels)))\r\n",
        "\r\n",
        "precision = precision_score(final_labels, final_predicted, labels=[0, 1, 2, 3, 4, 5, 6, 7, 8, 9], average='micro')\r\n",
        "recall = recall_score(final_labels, final_predicted, labels=[0, 1, 2, 3, 4, 5, 6, 7, 8, 9], average='micro')\r\n",
        "\r\n",
        "print('Accuracy of the network on the %d test images: %d %%' % (i*4, 100 * correct / total))\r\n",
        "\r\n",
        "print('Precision of the network on the %d test images: %f %%' % (i*4, precision))\r\n",
        "\r\n",
        "print('Recall of the network on the %d test images: %f %%' % (i*4, recall))"
      ],
      "execution_count": 61,
      "outputs": [
        {
          "output_type": "stream",
          "text": [
            "Accuracy of the network on the 10000 test images: 97 %\n",
            "Precision of the network on the 10000 test images: 0.977800 %\n",
            "Recall of the network on the 10000 test images: 0.977800 %\n"
          ],
          "name": "stdout"
        }
      ]
    },
    {
      "cell_type": "code",
      "metadata": {
        "id": "ywxPaCB2ESY6"
      },
      "source": [
        ""
      ],
      "execution_count": null,
      "outputs": []
    }
  ]
}