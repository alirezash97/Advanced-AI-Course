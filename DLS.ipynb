{
  "nbformat": 4,
  "nbformat_minor": 0,
  "metadata": {
    "colab": {
      "name": "DLS.ipynb",
      "provenance": [],
      "authorship_tag": "ABX9TyPc2vDx2JAm91+UErx8tsui",
      "include_colab_link": true
    },
    "kernelspec": {
      "name": "python3",
      "display_name": "Python 3"
    }
  },
  "cells": [
    {
      "cell_type": "markdown",
      "metadata": {
        "id": "view-in-github",
        "colab_type": "text"
      },
      "source": [
        "<a href=\"https://colab.research.google.com/github/alirezash97/Advanced-AI-Course/blob/main/DLS.ipynb\" target=\"_parent\"><img src=\"https://colab.research.google.com/assets/colab-badge.svg\" alt=\"Open In Colab\"/></a>"
      ]
    },
    {
      "cell_type": "code",
      "metadata": {
        "id": "4cMtGIrEWFLM"
      },
      "source": [
        "class Stack:\n",
        "     def __init__(self):\n",
        "         self.items = []\n",
        "\n",
        "     def isEmpty(self):\n",
        "         return self.items == []\n",
        "\n",
        "     def push(self, item):\n",
        "         self.items.append(item)\n",
        "\n",
        "     def pop(self):\n",
        "         return self.items.pop()\n",
        "\n",
        "     def peek(self):\n",
        "         return self.items[len(self.items)-1]\n",
        "\n",
        "     def size(self):\n",
        "         return len(self.items)\n",
        "     \n",
        "     def len(self):\n",
        "         return len(self.items)\n"
      ],
      "execution_count": 100,
      "outputs": []
    },
    {
      "cell_type": "code",
      "metadata": {
        "id": "MyqhMnLfaWqI"
      },
      "source": [
        "solved = False"
      ],
      "execution_count": null,
      "outputs": []
    },
    {
      "cell_type": "code",
      "metadata": {
        "id": "m7pb-BvbULJQ"
      },
      "source": [
        "# Crossing Rivers Problem with DLS\n",
        "import numpy as np\n",
        "\n",
        "\n",
        "# Initianization # passed = 1 or not = 0\n",
        "# last index = boat flag ==> 0 for behind the river and 1 for crossed from the river\n",
        "passed = np.zeros((1, 9))\n",
        "dls_stack = Stack()\n",
        "start_state = np.zeros((1, 10))\n",
        "current_state = np.zeros((1, 10))\n",
        "\n",
        "# The thief did not passsed\n",
        "final_stated = np.array([0, 1, 1, 1, 1, 1, 1, 1, 1])\n",
        "\n"
      ],
      "execution_count": 101,
      "outputs": []
    },
    {
      "cell_type": "code",
      "metadata": {
        "colab": {
          "base_uri": "https://localhost:8080/"
        },
        "id": "X49RqsBQb8Ax",
        "outputId": "3150c9ca-a2b6-4ae0-e581-69ebbb772e9d"
      },
      "source": [
        "[T, P, F, M, S1, S2, D1, D2, Flag, Level]\n",
        "[1, 1, 0, 0, 0, 0, 1, 1, 1, 8]"
      ],
      "execution_count": 23,
      "outputs": [
        {
          "output_type": "execute_result",
          "data": {
            "text/plain": [
              "array([2, 3, 4, 5])"
            ]
          },
          "metadata": {
            "tags": []
          },
          "execution_count": 23
        }
      ]
    },
    {
      "cell_type": "code",
      "metadata": {
        "colab": {
          "base_uri": "https://localhost:8080/"
        },
        "id": "51jd7_BwgNIF",
        "outputId": "35adf010-dcc7-4f9d-d654-3a96ed65a308"
      },
      "source": [
        "np.random.randint(8, size=(1, 2))"
      ],
      "execution_count": 15,
      "outputs": [
        {
          "output_type": "execute_result",
          "data": {
            "text/plain": [
              "array([[5, 7]])"
            ]
          },
          "metadata": {
            "tags": []
          },
          "execution_count": 15
        }
      ]
    },
    {
      "cell_type": "code",
      "metadata": {
        "colab": {
          "base_uri": "https://localhost:8080/"
        },
        "id": "avLF_p5Li61_",
        "outputId": "a0435dc7-75e4-40f0-a215-4e64ae36cc6e"
      },
      "source": [
        "a = 0\n",
        "int(not a)"
      ],
      "execution_count": 26,
      "outputs": [
        {
          "output_type": "execute_result",
          "data": {
            "text/plain": [
              "1"
            ]
          },
          "metadata": {
            "tags": []
          },
          "execution_count": 26
        }
      ]
    },
    {
      "cell_type": "code",
      "metadata": {
        "colab": {
          "base_uri": "https://localhost:8080/"
        },
        "id": "PlnWnaayjsM6",
        "outputId": "ce335879-03d1-474c-d7f1-4be0f25c48bb"
      },
      "source": [
        "import random\n",
        "a = np.array([4, 6, 2, 9, 2])\n",
        "\n",
        "b = random.sample(set(a), 2)\n",
        "b[0]"
      ],
      "execution_count": 35,
      "outputs": [
        {
          "output_type": "execute_result",
          "data": {
            "text/plain": [
              "2"
            ]
          },
          "metadata": {
            "tags": []
          },
          "execution_count": 35
        }
      ]
    },
    {
      "cell_type": "code",
      "metadata": {
        "colab": {
          "base_uri": "https://localhost:8080/"
        },
        "id": "MzRWvzRfkmIU",
        "outputId": "0469c567-3de4-46b5-ba21-1ed324a9bcb2"
      },
      "source": [
        "temp_offspring = np.zeros((1, 9))\n",
        "temp_offspring[0][-1]"
      ],
      "execution_count": 34,
      "outputs": [
        {
          "output_type": "execute_result",
          "data": {
            "text/plain": [
              "0.0"
            ]
          },
          "metadata": {
            "tags": []
          },
          "execution_count": 34
        }
      ]
    },
    {
      "cell_type": "code",
      "metadata": {
        "colab": {
          "base_uri": "https://localhost:8080/"
        },
        "id": "EwfAZu78ug4F",
        "outputId": "417263db-d079-4192-d490-e1a75d1e1738"
      },
      "source": [
        "import itertools \n",
        "  \n",
        "def findsubsets(s, n): \n",
        "    return list(itertools.combinations(s, n)) \n",
        "\n",
        "array = np.array([1, 5, 6, 3])\n",
        "a = findsubsets(array, 2)\n",
        "b = findsubsets(array, 1)\n",
        "c = a + b\n",
        "c[9]"
      ],
      "execution_count": 102,
      "outputs": [
        {
          "output_type": "execute_result",
          "data": {
            "text/plain": [
              "(3,)"
            ]
          },
          "metadata": {
            "tags": []
          },
          "execution_count": 102
        }
      ]
    },
    {
      "cell_type": "code",
      "metadata": {
        "colab": {
          "base_uri": "https://localhost:8080/"
        },
        "id": "4XROfRf2pZ31",
        "outputId": "75d44c42-4aaf-4228-fa20-8d6b489dac38"
      },
      "source": [
        "def validation(state, passengers):\n",
        "  \n",
        "  \n",
        "  validation_flag = True\n",
        "\n",
        "  # if thief is in passengers then police should ride the boat\n",
        "  if  ( (0 in passengers) and (1 not in passengers) ) :\n",
        "    validation_flag = False\n",
        "  \n",
        "  # don't let thief be alone with family\n",
        "  elif (state[0] == 0) and (0 not in passengers) and (1 in passengers) and (state[-2] == 0):\n",
        "    if (((state[2] == 0) and (2 not in passengers)) or ((state[3] == 0) and (3 not in passengers))\n",
        "     or ((state[4] == 0) and (4 not in passengers)) or ((state[5] == 0) and (5 not in passengers))):\n",
        "     validation_flag = False\n",
        "  \n",
        "  # don't let thief be alone with family\n",
        "  elif (state[0] == 1) and (0 not in passengers) and (1 in passengers) and (state[-2] == 1):\n",
        "    if (((state[2] == 1) and (2 not in passengers)) or ((state[3] == 1) and (3 not in passengers))\n",
        "     or ((state[4] == 1) and (4 not in passengers)) or ((state[5] == 1) and (5 not in passengers))):\n",
        "     validation_flag = False\n",
        "  \n",
        "  # father with sons and mother with daughters\n",
        "  elif ( ((2 in passengers) and (6 in passengers)) or ((2 in passengers) and (7 in passengers)) \n",
        "   or ((3 in passengers) and (4 in passengers)) or ((3 in passengers) and (5 in passengers))):\n",
        "   validation_flag = False\n",
        "  \n",
        "  # police, father and mother can ride the boat\n",
        "  elif ( (1 not in passengers) and (2 not in passengers) and (3 not in passengers) ):\n",
        "    validation_flag = False\n",
        "  \n",
        "  else:\n",
        "    pass\n",
        "\n",
        "\n",
        "  return validation_flag\n",
        "\n",
        "m_state = np.array([0, 0, 0, 0, 0, 0, 0, 0, 0, 0])\n",
        "passengers = np.array([0, 3])\n",
        "validation(m_state, passengers)\n",
        "\n"
      ],
      "execution_count": 118,
      "outputs": [
        {
          "output_type": "execute_result",
          "data": {
            "text/plain": [
              "False"
            ]
          },
          "metadata": {
            "tags": []
          },
          "execution_count": 118
        }
      ]
    },
    {
      "cell_type": "code",
      "metadata": {
        "id": "HeU1zXT-a70t"
      },
      "source": [
        "def operator(state, dls_stack):\n",
        "\n",
        "\n",
        "  \n",
        "  flag = state[-2]\n",
        "  my_state = state[:-2]\n",
        "  not_passed_indices = np.where(my_state == 0)[0] \n",
        "  passed_indices = np.where(my_state == 1)[0]\n",
        "\n",
        "\n",
        "  if flag == 0:\n",
        "      \n",
        "    boat_with_two_passengers = findsubsets(not_passed_indices, 2)\n",
        "    boat_with_one_passenger = findsubsets(not_passed_indices, 1)\n",
        "    boat_passengers = boat_with_two_passengers + boat_with_one_passenger\n",
        "\n",
        "    for i in boat_passengers:\n",
        "\n",
        "      print(i)\n",
        "      valid = validation(state, i)\n",
        "      if valid:\n",
        "        print(\"valid\")\n",
        "        offspring = np.zeros((1, 10))\n",
        "        offspring[0][:-2] = state[:-2]\n",
        "       \n",
        "        # passengers getting on the boat\n",
        "        for j in i:\n",
        "          offspring[0][j] = 1\n",
        "        # tigger boat position\n",
        "        offspring[0][-2] = int(not flag)\n",
        "        # increase the level \n",
        "        offspring[0][-1] = int(state[-1] + 1)\n",
        "        # push the offspring\n",
        "        dls_stack.push(offspring)\n",
        "        print(\"pushed\")\n",
        "      else:\n",
        "        pass\n",
        "\n",
        "  else:\n",
        "\n",
        "    boat_with_two_passengers = findsubsets(passed_indices, 2)\n",
        "    boat_with_one_passenger = findsubsets(passed_indices, 1)\n",
        "    boat_passengers = boat_with_two_passengers + boat_with_one_passenger\n",
        "\n",
        "    for i in boat_passengers:\n",
        "\n",
        "      print(state)\n",
        "      print(i)\n",
        "\n",
        "      valid = validation(state, i)\n",
        "      if valid:\n",
        "        print(\"valid\")\n",
        "        offspring = np.zeros((1, 10))\n",
        "        offspring[0][:-2] = state[:-2]\n",
        "        \n",
        "        # passengers getting on the boat (he comes back)\n",
        "        for j in i:\n",
        "          offspring[0][j] = 0\n",
        "        # tigger boat position\n",
        "        offspring[0][-2] = int(not flag)\n",
        "        # increase the level \n",
        "        offspring[0][-1] = int(state[-1] + 1)\n",
        "        # push the offspring\n",
        "        dls_stack.push(offspring)\n",
        "        print(\"pushed\")\n",
        "      else:\n",
        "        pass\n",
        "\n",
        "  return dls_stack\n"
      ],
      "execution_count": 119,
      "outputs": []
    },
    {
      "cell_type": "code",
      "metadata": {
        "colab": {
          "base_uri": "https://localhost:8080/"
        },
        "id": "CJFjPk11W7e6",
        "outputId": "884fdbd2-7f37-4eea-acfe-496f7b6cf6b8"
      },
      "source": [
        "state = np.array([0., 0., 0., 0., 1., 0., 0., 0., 0., 2.])\n",
        "for i in range (new_stack.len()):\n",
        "  new_stack.pop()\n",
        "new_stack = operator(state, dls_stack)"
      ],
      "execution_count": 153,
      "outputs": [
        {
          "output_type": "stream",
          "text": [
            "(0, 1)\n",
            "valid\n",
            "pushed\n",
            "(0, 2)\n",
            "(0, 3)\n",
            "(0, 5)\n",
            "(0, 6)\n",
            "(0, 7)\n",
            "(1, 2)\n",
            "(1, 3)\n",
            "(1, 5)\n",
            "(1, 6)\n",
            "(1, 7)\n",
            "(2, 3)\n",
            "valid\n",
            "pushed\n",
            "(2, 5)\n",
            "valid\n",
            "pushed\n",
            "(2, 6)\n",
            "(2, 7)\n",
            "(3, 5)\n",
            "(3, 6)\n",
            "valid\n",
            "pushed\n",
            "(3, 7)\n",
            "valid\n",
            "pushed\n",
            "(5, 6)\n",
            "(5, 7)\n",
            "(6, 7)\n",
            "(0,)\n",
            "(1,)\n",
            "(2,)\n",
            "valid\n",
            "pushed\n",
            "(3,)\n",
            "valid\n",
            "pushed\n",
            "(5,)\n",
            "(6,)\n",
            "(7,)\n"
          ],
          "name": "stdout"
        }
      ]
    },
    {
      "cell_type": "code",
      "metadata": {
        "colab": {
          "base_uri": "https://localhost:8080/"
        },
        "id": "uENSu7HQEjE_",
        "outputId": "8bfc6bc4-09d8-4453-e6de-56c4cb8d3133"
      },
      "source": [
        "new_stack.len()"
      ],
      "execution_count": 154,
      "outputs": [
        {
          "output_type": "execute_result",
          "data": {
            "text/plain": [
              "7"
            ]
          },
          "metadata": {
            "tags": []
          },
          "execution_count": 154
        }
      ]
    },
    {
      "cell_type": "code",
      "metadata": {
        "colab": {
          "base_uri": "https://localhost:8080/"
        },
        "id": "RwInkK89Emzz",
        "outputId": "6f495638-dc1c-4b04-b761-5f02f409ab8d"
      },
      "source": [
        "new_stack.pop()"
      ],
      "execution_count": 151,
      "outputs": [
        {
          "output_type": "execute_result",
          "data": {
            "text/plain": [
              "array([[0., 0., 0., 0., 1., 0., 0., 0., 0., 2.]])"
            ]
          },
          "metadata": {
            "tags": []
          },
          "execution_count": 151
        }
      ]
    },
    {
      "cell_type": "code",
      "metadata": {
        "colab": {
          "base_uri": "https://localhost:8080/"
        },
        "id": "MI_I-34aFGYx",
        "outputId": "e28c5e1c-e3ca-4434-e5e9-4d0b0c149ac0"
      },
      "source": [
        "new_stack.pop()"
      ],
      "execution_count": 152,
      "outputs": [
        {
          "output_type": "execute_result",
          "data": {
            "text/plain": [
              "array([[0., 0., 0., 0., 0., 0., 0., 0., 0., 2.]])"
            ]
          },
          "metadata": {
            "tags": []
          },
          "execution_count": 152
        }
      ]
    },
    {
      "cell_type": "code",
      "metadata": {
        "colab": {
          "base_uri": "https://localhost:8080/"
        },
        "id": "kD1BGLjlFHXQ",
        "outputId": "2407b81d-015f-44f7-8a0d-117e35b581c5"
      },
      "source": [
        "new_stack.pop()"
      ],
      "execution_count": 143,
      "outputs": [
        {
          "output_type": "execute_result",
          "data": {
            "text/plain": [
              "array([[0., 0., 0., 1., 0., 0., 0., 1., 1., 1.]])"
            ]
          },
          "metadata": {
            "tags": []
          },
          "execution_count": 143
        }
      ]
    },
    {
      "cell_type": "code",
      "metadata": {
        "colab": {
          "base_uri": "https://localhost:8080/"
        },
        "id": "TqA5pqeNFJWO",
        "outputId": "3e1ef81f-1386-4c55-91e8-f18ff77320c5"
      },
      "source": [
        "new_stack.pop()"
      ],
      "execution_count": 144,
      "outputs": [
        {
          "output_type": "execute_result",
          "data": {
            "text/plain": [
              "array([[0., 0., 0., 1., 0., 0., 1., 0., 1., 1.]])"
            ]
          },
          "metadata": {
            "tags": []
          },
          "execution_count": 144
        }
      ]
    },
    {
      "cell_type": "code",
      "metadata": {
        "colab": {
          "base_uri": "https://localhost:8080/"
        },
        "id": "kq23E1DnFKLo",
        "outputId": "e0d0780e-319a-4cf8-8c08-19bf8b6d4516"
      },
      "source": [
        "new_stack.pop()"
      ],
      "execution_count": 145,
      "outputs": [
        {
          "output_type": "execute_result",
          "data": {
            "text/plain": [
              "array([[0., 0., 1., 0., 0., 1., 0., 0., 1., 1.]])"
            ]
          },
          "metadata": {
            "tags": []
          },
          "execution_count": 145
        }
      ]
    },
    {
      "cell_type": "code",
      "metadata": {
        "colab": {
          "base_uri": "https://localhost:8080/"
        },
        "id": "AFp0nhxaFKln",
        "outputId": "003637eb-155b-4c5e-d7af-1f30cbcad692"
      },
      "source": [
        "new_stack.pop()"
      ],
      "execution_count": 146,
      "outputs": [
        {
          "output_type": "execute_result",
          "data": {
            "text/plain": [
              "array([[0., 0., 1., 0., 1., 0., 0., 0., 1., 1.]])"
            ]
          },
          "metadata": {
            "tags": []
          },
          "execution_count": 146
        }
      ]
    },
    {
      "cell_type": "code",
      "metadata": {
        "colab": {
          "base_uri": "https://localhost:8080/"
        },
        "id": "2SBNt_07FLAJ",
        "outputId": "bff73e3d-690b-4959-8a11-3fb2441fd516"
      },
      "source": [
        "new_stack.pop()"
      ],
      "execution_count": 147,
      "outputs": [
        {
          "output_type": "execute_result",
          "data": {
            "text/plain": [
              "array([[0., 0., 1., 1., 0., 0., 0., 0., 1., 1.]])"
            ]
          },
          "metadata": {
            "tags": []
          },
          "execution_count": 147
        }
      ]
    },
    {
      "cell_type": "code",
      "metadata": {
        "colab": {
          "base_uri": "https://localhost:8080/"
        },
        "id": "Kjf2xWaIFLYq",
        "outputId": "696c2a98-8170-487b-936e-25e7b8a36028"
      },
      "source": [
        "new_stack.pop()"
      ],
      "execution_count": 148,
      "outputs": [
        {
          "output_type": "execute_result",
          "data": {
            "text/plain": [
              "array([[1., 1., 0., 0., 0., 0., 0., 0., 1., 1.]])"
            ]
          },
          "metadata": {
            "tags": []
          },
          "execution_count": 148
        }
      ]
    },
    {
      "cell_type": "code",
      "metadata": {
        "id": "dRkZ3GWdFL1J"
      },
      "source": [
        ""
      ],
      "execution_count": 148,
      "outputs": []
    }
  ]
}