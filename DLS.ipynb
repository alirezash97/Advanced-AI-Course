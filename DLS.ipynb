{
  "nbformat": 4,
  "nbformat_minor": 0,
  "metadata": {
    "colab": {
      "name": "DLS.ipynb",
      "provenance": [],
      "authorship_tag": "ABX9TyMnAmIgDwQvQNdgREyILEfJ",
      "include_colab_link": true
    },
    "kernelspec": {
      "name": "python3",
      "display_name": "Python 3"
    }
  },
  "cells": [
    {
      "cell_type": "markdown",
      "metadata": {
        "id": "view-in-github",
        "colab_type": "text"
      },
      "source": [
        "<a href=\"https://colab.research.google.com/github/alirezash97/Advanced-AI-Course/blob/main/DLS.ipynb\" target=\"_parent\"><img src=\"https://colab.research.google.com/assets/colab-badge.svg\" alt=\"Open In Colab\"/></a>"
      ]
    },
    {
      "cell_type": "code",
      "metadata": {
        "id": "4cMtGIrEWFLM"
      },
      "source": [
        "class Stack:\n",
        "     def __init__(self):\n",
        "         self.items = []\n",
        "\n",
        "     def isEmpty(self):\n",
        "         return self.items == []\n",
        "\n",
        "     def push(self, item):\n",
        "         self.items.append(item)\n",
        "\n",
        "     def pop(self):\n",
        "         return self.items.pop()\n",
        "\n",
        "     def peek(self):\n",
        "         return self.items[len(self.items)-1]\n",
        "\n",
        "     def size(self):\n",
        "         return len(self.items)\n",
        "     \n",
        "     def len(self):\n",
        "         return len(self.items)\n"
      ],
      "execution_count": 1,
      "outputs": []
    },
    {
      "cell_type": "code",
      "metadata": {
        "id": "m7pb-BvbULJQ"
      },
      "source": [
        "# Crossing Rivers Problem with DLS\n",
        "import numpy as np\n",
        "\n",
        "# Initianization # passed = 1 or not = 0\n",
        "# last index = boat flag ==> 0 for behind the river and 1 for crossed from the river\n",
        "\n",
        "dls_stack = Stack()\n",
        "start_state = np.zeros((1, 10))\n",
        "\n"
      ],
      "execution_count": 2,
      "outputs": []
    },
    {
      "cell_type": "code",
      "metadata": {
        "id": "X49RqsBQb8Ax"
      },
      "source": [
        "# [T, P, F, M, S1, S2, D1, D2, Flag, Level]\n",
        "# [1, 1, 0, 0, 0, 0, 1, 1, 1, 8]"
      ],
      "execution_count": 3,
      "outputs": []
    },
    {
      "cell_type": "code",
      "metadata": {
        "id": "EwfAZu78ug4F"
      },
      "source": [
        "import itertools \n",
        "  \n",
        "def findsubsets(s, n): \n",
        "    return list(itertools.combinations(s, n)) \n"
      ],
      "execution_count": 4,
      "outputs": []
    },
    {
      "cell_type": "code",
      "metadata": {
        "id": "4XROfRf2pZ31"
      },
      "source": [
        "def validation(state, passengers):\n",
        "  \n",
        "  \n",
        "  validation_flag = True\n",
        "\n",
        "  # if thief is in passengers then police should ride the boat\n",
        "  if  ( (0 in passengers) and (1 not in passengers) ) :\n",
        "    validation_flag = False\n",
        "  \n",
        "  # don't let thief be alone with family\n",
        "  elif (state[0] == 0) and (0 not in passengers) and (1 in passengers) and (state[-2] == 0):\n",
        "    if (((state[2] == 0) and (2 not in passengers)) or ((state[3] == 0) and (3 not in passengers))\n",
        "     or ((state[4] == 0) and (4 not in passengers)) or ((state[5] == 0) and (5 not in passengers))):\n",
        "     validation_flag = False\n",
        "  \n",
        "  # don't let thief be alone with family\n",
        "  elif (state[0] == 1) and (0 not in passengers) and (1 in passengers) and (state[-2] == 1):\n",
        "    if (((state[2] == 1) and (2 not in passengers)) or ((state[3] == 1) and (3 not in passengers))\n",
        "     or ((state[4] == 1) and (4 not in passengers)) or ((state[5] == 1) and (5 not in passengers))):\n",
        "     validation_flag = False\n",
        "  \n",
        "  # father with sons and mother with daughters\n",
        "  elif ( ((2 in passengers) and (6 in passengers)) or ((2 in passengers) and (7 in passengers)) \n",
        "   or ((3 in passengers) and (4 in passengers)) or ((3 in passengers) and (5 in passengers))):\n",
        "   validation_flag = False\n",
        "  \n",
        "  # police, father and mother can ride the boat\n",
        "  elif ( (1 not in passengers) and (2 not in passengers) and (3 not in passengers) ):\n",
        "    validation_flag = False\n",
        "  \n",
        "  else:\n",
        "    pass\n",
        "\n",
        "\n",
        "  return validation_flag\n",
        "\n",
        "# m_state = np.array([0, 0, 0, 0, 0, 0, 0, 0, 0, 0])\n",
        "# passengers = np.array([0, 3])\n",
        "# validation(m_state, passengers)\n",
        "\n"
      ],
      "execution_count": 5,
      "outputs": []
    },
    {
      "cell_type": "code",
      "metadata": {
        "id": "HeU1zXT-a70t"
      },
      "source": [
        "def operator(state, dls_stack):\n",
        "\n",
        "\n",
        "  \n",
        "  flag = state[-2]\n",
        "  my_state = state[:-2]\n",
        "  not_passed_indices = np.where(my_state == 0)[0] \n",
        "  passed_indices = np.where(my_state == 1)[0]\n",
        "\n",
        "\n",
        "  if flag == 0:\n",
        "      \n",
        "    boat_with_two_passengers = findsubsets(not_passed_indices, 2)\n",
        "    boat_with_one_passenger = findsubsets(not_passed_indices, 1)\n",
        "    boat_passengers = boat_with_two_passengers + boat_with_one_passenger\n",
        "\n",
        "    for i in boat_passengers:\n",
        "\n",
        "\n",
        "      valid = validation(state, i)\n",
        "      if valid:\n",
        "        offspring = np.zeros((1, 10))\n",
        "        offspring[0][:-2] = state[:-2]\n",
        "       \n",
        "        # passengers getting on the boat\n",
        "        for j in i:\n",
        "          offspring[0][j] = 1\n",
        "        # tigger boat position\n",
        "        offspring[0][-2] = int(not flag)\n",
        "        # increase the level \n",
        "        offspring[0][-1] = int(state[-1] + 1)\n",
        "        # push the offspring\n",
        "        dls_stack.push(offspring)\n",
        "\n",
        "      else:\n",
        "        pass\n",
        "\n",
        "  else:\n",
        "\n",
        "    boat_with_two_passengers = findsubsets(passed_indices, 2)\n",
        "    boat_with_one_passenger = findsubsets(passed_indices, 1)\n",
        "    boat_passengers = boat_with_two_passengers + boat_with_one_passenger\n",
        "\n",
        "    for i in boat_passengers:\n",
        "\n",
        "      valid = validation(state, i)\n",
        "      if valid:\n",
        "        offspring = np.zeros((1, 10))\n",
        "        offspring[0][:-2] = state[:-2]\n",
        "        \n",
        "        # passengers getting on the boat (he comes back)\n",
        "        for j in i:\n",
        "          offspring[0][j] = 0\n",
        "        # tigger boat position\n",
        "        offspring[0][-2] = int(not flag)\n",
        "        # increase the level \n",
        "        offspring[0][-1] = int(state[-1] + 1)\n",
        "        # push the offspring\n",
        "        dls_stack.push(offspring)\n",
        "      else:\n",
        "        pass\n",
        "\n",
        "  return dls_stack\n"
      ],
      "execution_count": 6,
      "outputs": []
    },
    {
      "cell_type": "code",
      "metadata": {
        "id": "CJFjPk11W7e6"
      },
      "source": [
        "# state = np.array([0., 0., 0., 1., 1., 0., 0., 1., 1., 3.])\n",
        "# for i in range ((new_stack.len())):\n",
        "#   new_stack.pop()\n",
        "# new_stack = operator(state, dls_stack)"
      ],
      "execution_count": 7,
      "outputs": []
    },
    {
      "cell_type": "code",
      "metadata": {
        "id": "TTuZSaFJM5jy"
      },
      "source": [
        "\n",
        "\n",
        "# Initianization # passed = 1 or not = 0\n",
        "# last index = boat flag ==> 0 for behind the river and 1 for crossed from the river\n",
        "\n",
        "\n",
        "\n",
        "# The thief did not passsed\n",
        "final_state = np.array([0, 1, 1, 1, 1, 1, 1, 1, 1, 1])\n"
      ],
      "execution_count": 8,
      "outputs": []
    },
    {
      "cell_type": "code",
      "metadata": {
        "colab": {
          "base_uri": "https://localhost:8080/"
        },
        "id": "6rVkeBxuNm5j",
        "outputId": "c432db29-843d-4af5-8d3c-b03cb2744359"
      },
      "source": [
        "\n",
        "\n",
        "def dls(start_state, final_state, dls_stack, limit):\n",
        "\n",
        "  dls_stack = operator(start_state[0], dls_stack)\n",
        "  solved = False\n",
        "  \n",
        "  while not solved:\n",
        "\n",
        "    if dls_stack.len() != 0:\n",
        "      \n",
        "      current_state = dls_stack.pop()\n",
        "\n",
        "      \n",
        "      # it does not matter when these two match\n",
        "      \n",
        "      \n",
        "      if np.array_equal(current_state[0][:-1], final_state[:-1]):\n",
        "        print(current_state[0])\n",
        "        solved = True\n",
        "        print(\"Done!\") # show path\n",
        "      \n",
        "      elif current_state[0][-1] < limit:\n",
        "\n",
        "        dls_stack = operator(current_state[0], dls_stack)\n",
        "      else:\n",
        "        pass\n",
        "    \n",
        "    else:\n",
        "      print(\"the limit is not enough!\")\n",
        "      break\n",
        "\n",
        "\n",
        "dls(start_state, final_state, dls_stack, 12)\n"
      ],
      "execution_count": 12,
      "outputs": [
        {
          "output_type": "stream",
          "text": [
            "[ 0.  1.  1.  1.  1.  1.  1.  1.  1. 11.]\n",
            "Done!\n"
          ],
          "name": "stdout"
        }
      ]
    },
    {
      "cell_type": "code",
      "metadata": {
        "id": "smgGGHS6P0TS"
      },
      "source": [
        ""
      ],
      "execution_count": null,
      "outputs": []
    }
  ]
}