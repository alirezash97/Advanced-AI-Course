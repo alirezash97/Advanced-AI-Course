{
  "nbformat": 4,
  "nbformat_minor": 0,
  "metadata": {
    "colab": {
      "name": "DLS.ipynb",
      "provenance": [],
      "authorship_tag": "ABX9TyOjcmKwUUPMoyc7A4GQWRTm",
      "include_colab_link": true
    },
    "kernelspec": {
      "name": "python3",
      "display_name": "Python 3"
    }
  },
  "cells": [
    {
      "cell_type": "markdown",
      "metadata": {
        "id": "view-in-github",
        "colab_type": "text"
      },
      "source": [
        "<a href=\"https://colab.research.google.com/github/alirezash97/Advanced-AI-Course/blob/main/DLS.ipynb\" target=\"_parent\"><img src=\"https://colab.research.google.com/assets/colab-badge.svg\" alt=\"Open In Colab\"/></a>"
      ]
    },
    {
      "cell_type": "code",
      "metadata": {
        "id": "4cMtGIrEWFLM"
      },
      "source": [
        "class Stack:\n",
        "     def __init__(self):\n",
        "         self.items = []\n",
        "\n",
        "     def isEmpty(self):\n",
        "         return self.items == []\n",
        "\n",
        "     def push(self, item):\n",
        "         self.items.append(item)\n",
        "\n",
        "     def pop(self):\n",
        "         return self.items.pop()\n",
        "\n",
        "     def peek(self):\n",
        "         return self.items[len(self.items)-1]\n",
        "\n",
        "     def size(self):\n",
        "         return len(self.items)\n"
      ],
      "execution_count": 6,
      "outputs": []
    },
    {
      "cell_type": "code",
      "metadata": {
        "id": "MyqhMnLfaWqI"
      },
      "source": [
        "solved = False"
      ],
      "execution_count": null,
      "outputs": []
    },
    {
      "cell_type": "code",
      "metadata": {
        "id": "m7pb-BvbULJQ"
      },
      "source": [
        "# Crossing Rivers Problem with DLS\n",
        "import numpy as np\n",
        "\n",
        "\n",
        "# Initianization # passed = 1 or not = 0\n",
        "# last index = boat flag ==> 0 for behind the river and 1 for crossed from the river\n",
        "passed = np.zeros((1, 9))\n",
        "dls_stack = Stack()\n",
        "start_state = np.zeros((1, 10))\n",
        "current_state = np.zeros((1, 10))\n",
        "\n",
        "# The thief did not passsed\n",
        "final_stated = np.array([0, 1, 1, 1, 1, 1, 1, 1, 1])\n",
        "\n"
      ],
      "execution_count": 7,
      "outputs": []
    },
    {
      "cell_type": "code",
      "metadata": {
        "colab": {
          "base_uri": "https://localhost:8080/"
        },
        "id": "X49RqsBQb8Ax",
        "outputId": "3150c9ca-a2b6-4ae0-e581-69ebbb772e9d"
      },
      "source": [
        "[T, P, F, M, S1, S2, D1, D2, Flag, Level]\n",
        "[1, 1, 0, 0, 0, 0, 1, 1, 1, 8]"
      ],
      "execution_count": 23,
      "outputs": [
        {
          "output_type": "execute_result",
          "data": {
            "text/plain": [
              "array([2, 3, 4, 5])"
            ]
          },
          "metadata": {
            "tags": []
          },
          "execution_count": 23
        }
      ]
    },
    {
      "cell_type": "code",
      "metadata": {
        "colab": {
          "base_uri": "https://localhost:8080/"
        },
        "id": "51jd7_BwgNIF",
        "outputId": "35adf010-dcc7-4f9d-d654-3a96ed65a308"
      },
      "source": [
        "np.random.randint(8, size=(1, 2))"
      ],
      "execution_count": 15,
      "outputs": [
        {
          "output_type": "execute_result",
          "data": {
            "text/plain": [
              "array([[5, 7]])"
            ]
          },
          "metadata": {
            "tags": []
          },
          "execution_count": 15
        }
      ]
    },
    {
      "cell_type": "code",
      "metadata": {
        "colab": {
          "base_uri": "https://localhost:8080/"
        },
        "id": "avLF_p5Li61_",
        "outputId": "a0435dc7-75e4-40f0-a215-4e64ae36cc6e"
      },
      "source": [
        "a = 0\n",
        "int(not a)"
      ],
      "execution_count": 26,
      "outputs": [
        {
          "output_type": "execute_result",
          "data": {
            "text/plain": [
              "1"
            ]
          },
          "metadata": {
            "tags": []
          },
          "execution_count": 26
        }
      ]
    },
    {
      "cell_type": "code",
      "metadata": {
        "colab": {
          "base_uri": "https://localhost:8080/"
        },
        "id": "PlnWnaayjsM6",
        "outputId": "ce335879-03d1-474c-d7f1-4be0f25c48bb"
      },
      "source": [
        "import random\n",
        "a = np.array([4, 6, 2, 9, 2])\n",
        "\n",
        "b = random.sample(set(a), 2)\n",
        "b[0]"
      ],
      "execution_count": 35,
      "outputs": [
        {
          "output_type": "execute_result",
          "data": {
            "text/plain": [
              "2"
            ]
          },
          "metadata": {
            "tags": []
          },
          "execution_count": 35
        }
      ]
    },
    {
      "cell_type": "code",
      "metadata": {
        "colab": {
          "base_uri": "https://localhost:8080/"
        },
        "id": "MzRWvzRfkmIU",
        "outputId": "0469c567-3de4-46b5-ba21-1ed324a9bcb2"
      },
      "source": [
        "temp_offspring = np.zeros((1, 9))\n",
        "temp_offspring[0][-1]"
      ],
      "execution_count": 34,
      "outputs": [
        {
          "output_type": "execute_result",
          "data": {
            "text/plain": [
              "0.0"
            ]
          },
          "metadata": {
            "tags": []
          },
          "execution_count": 34
        }
      ]
    },
    {
      "cell_type": "code",
      "metadata": {
        "colab": {
          "base_uri": "https://localhost:8080/"
        },
        "id": "EwfAZu78ug4F",
        "outputId": "71a09945-cf20-43a2-d56d-762640ae90a1"
      },
      "source": [
        "import itertools \n",
        "  \n",
        "def findsubsets(s, n): \n",
        "    return list(itertools.combinations(s, n)) \n",
        "\n",
        "array = np.array([1, 5, 6, 3])\n",
        "a = findsubsets(array, 2)\n",
        "b = findsubsets(array, 1)\n",
        "c = a + b\n",
        "c[9]"
      ],
      "execution_count": 40,
      "outputs": [
        {
          "output_type": "execute_result",
          "data": {
            "text/plain": [
              "(3,)"
            ]
          },
          "metadata": {
            "tags": []
          },
          "execution_count": 40
        }
      ]
    },
    {
      "cell_type": "code",
      "metadata": {
        "id": "4XROfRf2pZ31"
      },
      "source": [
        "def validation(state, passengers):\n",
        "  \n",
        "  validation_flag = True\n",
        "  # if thief didn't cross the river\n",
        "  if (state[0] == 0) and (1 in passengers) and (state[-2] == 0):\n",
        "    if (((state[2] == 0) and (2 not in passengers)) or ((state[3] == 0) and (3 not in passengers))\n",
        "     or ((state[4] == 0) and (4 not in passengers)) or ((state[5] == 0) and (5 not in passengers))):\n",
        "     validation_flag = False\n",
        "  # if thief crossed the river\n",
        "  elif (state[0] == 1) and (1 in passengers) and (state[-2] == 1):\n",
        "    if (((state[2] == 1) and (2 not in passengers)) or ((state[3] == 1) and (3 not in passengers))\n",
        "     or ((state[4] == 1) and (4 not in passengers)) or ((state[5] == 1) and (5 not in passengers))):\n",
        "     validation_flag = False\n",
        "  # father with sons \n",
        "  elif ( ((2 in passengers) and (6 in passengers)) or ((2 in passengers) and (7 in passengers)) \n",
        "   or ((3 in passengers) and (4 in passengers)) or ((3 in passengers) and (5 in passengers)):\n",
        "   validation_flag = False\n",
        "\n",
        "  \n",
        "   \n",
        "    \n",
        "\n"
      ],
      "execution_count": null,
      "outputs": []
    },
    {
      "cell_type": "code",
      "metadata": {
        "colab": {
          "base_uri": "https://localhost:8080/",
          "height": 128
        },
        "id": "HeU1zXT-a70t",
        "outputId": "e4fccaae-a5b7-4036-bd8a-67d7d4a3ec4a"
      },
      "source": [
        "def operator(state):\n",
        "\n",
        "\n",
        "  \n",
        "  flag = state[-2]\n",
        "  my_state = state[:-2]\n",
        "  not_passed_indices = np.where(my_state == 0)[0] \n",
        "  passed_indices = np.where(my_state == 1)[0]\n",
        "\n",
        "\n",
        "  if flag == 0:\n",
        "      \n",
        "    boat_with_two_passengers = findsubsets(not_passed_indices, 2)\n",
        "    boat_with_one_passenger = findsubsets(not_passed_indices, 1)\n",
        "    boat_passengers = boat_with_two_passengers + boat_with_one_passenger\n",
        "\n",
        "    for i in boat_passengers:\n",
        "\n",
        "      valid = validation(state, i)\n",
        "      if valid:\n",
        "        offspring = np.zeros((1, 10))\n",
        "        offspring[0][:-2] = state[:-2]\n",
        "       \n",
        "        # passengers getting on the boat\n",
        "        for j in i:\n",
        "          offspring[0][j] = 1\n",
        "        # tigger boat position\n",
        "        offspring[0][-2] = int(not flag)\n",
        "        # increase the level \n",
        "        offspring[0][-1] = int(state[-1] + 1)\n",
        "        # push the offspring\n",
        "        dls_stack.push(offspring)\n",
        "      else:\n",
        "        pass\n",
        "\n",
        "  else:\n",
        "\n",
        "    boat_with_two_passengers = findsubsets(passed_indices, 2)\n",
        "    boat_with_one_passenger = findsubsets(passed_indices, 1)\n",
        "    boat_passengers = boat_with_two_passengers + boat_with_one_passenger\n",
        "\n",
        "    for i in boat_passengers:\n",
        "\n",
        "      valid = validation(state, i)\n",
        "      if valid:\n",
        "        offspring = np.zeros((1, 10))\n",
        "        offspring[0][:-2] = state[:-2]\n",
        "        \n",
        "        # passengers getting on the boat\n",
        "        for j in i:\n",
        "          offspring[0][j] = 1\n",
        "        # tigger boat position\n",
        "        offspring[0][-2] = int(not flag)\n",
        "        # increase the level \n",
        "        offspring[0][-1] = int(state[-1] + 1)\n",
        "        # push the offspring\n",
        "        dls_stack.push(offspring)\n",
        "      else:\n",
        "        pass\n",
        "\n",
        "  return None\n"
      ],
      "execution_count": 31,
      "outputs": [
        {
          "output_type": "error",
          "ename": "SyntaxError",
          "evalue": "ignored",
          "traceback": [
            "\u001b[0;36m  File \u001b[0;32m\"<ipython-input-31-0a9c76d928bd>\"\u001b[0;36m, line \u001b[0;32m21\u001b[0m\n\u001b[0;31m    if valid = True:\u001b[0m\n\u001b[0m             ^\u001b[0m\n\u001b[0;31mSyntaxError\u001b[0m\u001b[0;31m:\u001b[0m invalid syntax\n"
          ]
        }
      ]
    },
    {
      "cell_type": "code",
      "metadata": {
        "id": "CJFjPk11W7e6"
      },
      "source": [
        "while solved == False:\n",
        "  "
      ],
      "execution_count": null,
      "outputs": []
    }
  ]
}